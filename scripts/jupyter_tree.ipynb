{
 "cells": [
  {
   "cell_type": "code",
   "execution_count": 58,
   "metadata": {},
   "outputs": [],
   "source": [
    "### First we handle our files ###\n",
    "tree_infile = f\"../000_000_341.tree\"\n",
    "alignment_infile = f\"../000_000_341.fas.alg\"\n",
    "table_infile = f\"../000_000_341.tsv\"\n",
    "\n",
    "### And we store them in different variables ###\n",
    "with open(table_infile, \"r\") as table_file:\n",
    "    table_info = table_file.readlines()\n",
    "\n",
    "with open(alignment_infile, \"r\") as alignment_file:\n",
    "    alignment_info = alignment_file.read()"
   ]
  },
  {
   "cell_type": "code",
   "execution_count": 78,
   "metadata": {},
   "outputs": [
    {
     "name": "stdout",
     "output_type": "stream",
     "text": [
      "{'Q88SK6': 'test'}\n",
      "{'Q88SK6': 'test', 'Q9BQ69': 'test'}\n",
      "{'Q88SK6': 'test', 'Q9BQ69': 'test', 'Q8PHB6': 'test'}\n",
      "{'Q88SK6': 'test', 'Q9BQ69': 'test', 'Q8PHB6': 'test', 'Q44020': 'test'}\n",
      "{'Q88SK6': 'test', 'Q9BQ69': 'test', 'Q8PHB6': 'test', 'Q44020': 'test', 'O67077': 'test'}\n"
     ]
    }
   ],
   "source": [
    "swiss_hit_hash = {}\n",
    "for line in table_info:\n",
    "    hit_type = line.split(\"\\t\")[2]\n",
    "    hit_name = line.split(\"\\t\")[1]\n",
    "    if (hit_type == (\"swissprot_best\" or \"swissprot_exact\") and hit_name not in swiss_hit_hash):\n",
    "        # Aqui ponerle que busque esa entrada en el archivo JSON y guardar las anotaciones como el valor del hash\n",
    "        swiss_hit_hash[hit_name] = \"test\"\n",
    "        print (swiss_hit_hash)\n"
   ]
  },
  {
   "cell_type": "code",
   "execution_count": null,
   "metadata": {},
   "outputs": [],
   "source": [
    ")"
   ]
  },
  {
   "cell_type": "code",
   "execution_count": 45,
   "metadata": {},
   "outputs": [
    {
     "name": "stdout",
     "output_type": "stream",
     "text": [
      "0\n"
     ]
    }
   ],
   "source": [
    "table_info[line] = [line.split(\"\\t\") for line in table_info]\n",
    "print (table_info[0])\n",
    "\n",
    "\n",
    "[i.split('\\t', 1)[0] for i in l]"
   ]
  }
 ],
 "metadata": {
  "kernelspec": {
   "display_name": "Python 3",
   "language": "python",
   "name": "python3"
  },
  "language_info": {
   "codemirror_mode": {
    "name": "ipython",
    "version": 3
   },
   "file_extension": ".py",
   "mimetype": "text/x-python",
   "name": "python",
   "nbconvert_exporter": "python",
   "pygments_lexer": "ipython3",
   "version": "3.7.3"
  }
 },
 "nbformat": 4,
 "nbformat_minor": 2
}
