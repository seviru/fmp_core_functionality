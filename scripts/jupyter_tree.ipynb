{
 "cells": [
  {
   "cell_type": "code",
   "execution_count": 9,
   "metadata": {},
   "outputs": [],
   "source": [
    "### First we handle our files ###\n",
    "tree_infile = f\"../000_000_341.tree\"\n",
    "alignment_infile = f\"../000_000_341.fas.alg\"\n",
    "table_infile = f\"../000_000_341.tsv\"\n",
    "uniprot_infile = f\"../uniprot_2018_09.json\"\n",
    "\n",
    "### And we store them in different variables ###\n",
    "try:\n",
    "    with open(table_infile, \"r\") as table_file:\n",
    "        table_info = table_file.readlines()\n",
    "except:\n",
    "    print (\"No table infile.\")\n",
    "        \n",
    "try:\n",
    "    with open(alignment_infile, \"r\") as alignment_file:\n",
    "        alignment_info = alignment_file.read()\n",
    "except:     \n",
    "    print (\"No alignment infile.\")\n",
    "        \n",
    "import json\n",
    "uniprot_info = {}\n",
    "with open(uniprot_infile, \"r\") as uniprot_file:\n",
    "    for line in uniprot_file:\n",
    "        uniprot_entry = json.loads(line)\n",
    "        uniprot_info.update(uniprot_entry)"
   ]
  },
  {
   "cell_type": "code",
   "execution_count": null,
   "metadata": {},
   "outputs": [],
   "source": [
    "print (uniprot_info)"
   ]
  },
  {
   "cell_type": "code",
   "execution_count": 10,
   "metadata": {},
   "outputs": [],
   "source": [
    "### LOADING THE SPECIFIED TAG INFORMATION FROM OUR ALIGNMENT ###\n",
    "def retrieve_features (feature_tag):\n",
    "    uniprot_hit_hash = {}\n",
    "    for line in table_info:\n",
    "        hit_type = line.split(\"\\t\")[2]\n",
    "        hit_name = line.split(\"\\t\")[1]\n",
    "        if (hit_type == (\"swissprot_best\" or \"swissprot_exact\") and hit_name not in uniprot_hit_hash):\n",
    "            for feature in uniprot_info[hit_name][\"FT\"]:\n",
    "                if feature[\"ft\"] == feature_tag:\n",
    "                    if hit_name not in uniprot_hit_hash:\n",
    "                        uniprot_hit_hash[hit_name] = [feature]\n",
    "                    else:\n",
    "                        uniprot_hit_hash[hit_name].append(feature)\n",
    "    return uniprot_hit_hash"
   ]
  },
  {
   "cell_type": "code",
   "execution_count": 11,
   "metadata": {},
   "outputs": [
    {
     "name": "stdout",
     "output_type": "stream",
     "text": [
      "{'O67077': [{'ft': 'ACT_SITE', 's': '419', 'e': '419', 'ann': '{ECO:0000255|HAMAP-Rule:MF_01458}.'}]}\n"
     ]
    }
   ],
   "source": [
    "uniprot_hit_hash = retrieve_features(\"ACT_SITE\")\n",
    "print (uniprot_hit_hash)"
   ]
  },
  {
   "cell_type": "code",
   "execution_count": null,
   "metadata": {},
   "outputs": [],
   "source": []
  },
  {
   "cell_type": "code",
   "execution_count": 12,
   "metadata": {},
   "outputs": [],
   "source": [
    "### LOADING THE TREE WITH ETE3 AND PAINTING THE ACT SITES ###    \n",
    "from ete3 import PhyloTree, TreeStyle\n",
    "tree = PhyloTree(tree_infile, alignment=alignment_info, alg_format=\"fasta\")\n",
    "tree.show()"
   ]
  }
 ],
 "metadata": {
  "kernelspec": {
   "display_name": "Python 3",
   "language": "python",
   "name": "python3"
  },
  "language_info": {
   "codemirror_mode": {
    "name": "ipython",
    "version": 3
   },
   "file_extension": ".py",
   "mimetype": "text/x-python",
   "name": "python",
   "nbconvert_exporter": "python",
   "pygments_lexer": "ipython3",
   "version": "3.7.3"
  }
 },
 "nbformat": 4,
 "nbformat_minor": 2
}
