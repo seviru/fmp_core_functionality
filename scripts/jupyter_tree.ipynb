{
 "cells": [
  {
   "cell_type": "code",
   "execution_count": 245,
   "metadata": {},
   "outputs": [],
   "source": [
    "### First we handle our files ###\n",
    "tree_path = f\"../000_000_341.tree\"\n",
    "alignment_path = f\"../000_000_341.fas.alg\"\n",
    "table_path = f\"../000_000_341.tsv\"\n",
    "uniprot_path = f\"../uniprot_2018_09.json\"\n",
    "\n",
    "### And we store them in different variables ###\n",
    "try:\n",
    "    with open(table_path, \"r\") as table_file:\n",
    "        table_info = table_file.readlines()\n",
    "except:\n",
    "    print (\"No table path.\")\n",
    "        \n",
    "try:\n",
    "    with open(alignment_path, \"r\") as alignment_file:\n",
    "        alignment_info = alignment_file.read()\n",
    "except:     \n",
    "    print (\"No alignment path.\")\n",
    "        \n",
    "import json\n",
    "uniprot_info = {}\n",
    "with open(uniprot_path, \"r\") as uniprot_file:\n",
    "    for line in uniprot_file:\n",
    "        uniprot_entry = json.loads(line)\n",
    "        uniprot_info.update(uniprot_entry)"
   ]
  },
  {
   "cell_type": "code",
   "execution_count": 246,
   "metadata": {},
   "outputs": [],
   "source": [
    "### LOADING THE SPECIFIED TAG INFORMATION FROM OUR ALIGNMENT ###\n",
    "def retrieve_features (feature_tag, table_file):\n",
    "    uniprot_hit_hash = {}\n",
    "    for line in table_file:\n",
    "        hit_type = line.split(\"\\t\")[2]\n",
    "        hit_name = line.split(\"\\t\")[1]\n",
    "        if (hit_type == (\"swissprot_best\" or \"swissprot_exact\") and hit_name not in uniprot_hit_hash):\n",
    "            features_newlist = []\n",
    "            for feature in uniprot_info[hit_name][\"FT\"]:\n",
    "                if feature[\"ft\"] == feature_tag:\n",
    "                    features_newlist.append(feature)\n",
    "            if len(features_newlist) > 0:\n",
    "                uniprot_hit_hash[hit_name] = features_newlist\n",
    "    return uniprot_hit_hash"
   ]
  },
  {
   "cell_type": "code",
   "execution_count": 247,
   "metadata": {},
   "outputs": [
    {
     "name": "stdout",
     "output_type": "stream",
     "text": [
      "{'O67077': [{'ft': 'ACT_SITE', 's': '419', 'e': '419', 'ann': '{ECO:0000255|HAMAP-Rule:MF_01458}.'}]}\n"
     ]
    }
   ],
   "source": [
    "uniprot_hit_hash = retrieve_features(\"ACT_SITE\", table_info)\n",
    "print (uniprot_hit_hash)"
   ]
  },
  {
   "cell_type": "code",
   "execution_count": 248,
   "metadata": {},
   "outputs": [],
   "source": [
    "### LOADING THE TREE WITH ETE3 ###    \n",
    "from ete3 import PhyloTree, TreeStyle\n",
    "tree = PhyloTree(tree_infile, alignment=alignment_info, alg_format=\"fasta\")\n",
    "# tree.show()\n",
    "# tree.render('%%inline')"
   ]
  },
  {
   "cell_type": "code",
   "execution_count": 249,
   "metadata": {},
   "outputs": [],
   "source": [
    "### TRANSFORMING THE SEQUENCE POSITIONS INTO ALIGNMENTS POSITIONS ###\n",
    "def get_alignment_position (sequence_position, sequence):\n",
    "    alignment_position = 0\n",
    "    aminoacid_counted = 0\n",
    "    for aminoacid in sequence:\n",
    "        if aminoacid.isalpha():\n",
    "            aminoacid_counted += 1\n",
    "        if not (aminoacid_counted <= sequence_position or aminoacid_counted == 0):\n",
    "            break\n",
    "        alignment_position += 1\n",
    "    return alignment_position"
   ]
  },
  {
   "cell_type": "code",
   "execution_count": 250,
   "metadata": {},
   "outputs": [
    {
     "name": "stdout",
     "output_type": "stream",
     "text": [
      "[559]\n"
     ]
    }
   ],
   "source": [
    "### GETTING A POSITIONS MATRIX FROM THE FEATURES IN OUR TREE ###\n",
    "def get_positions_matrix (feature_hash, tree):\n",
    "    position_matrix = []\n",
    "    for unigene in feature_hash:\n",
    "        unigene_sequence = (tree&unigene).sequence\n",
    "        for feature in feature_hash[unigene]:\n",
    "            feature_start = int(feature[\"s\"])-1\n",
    "            feature_end = int(feature[\"e\"])-1\n",
    "            alignment_feature_start = get_alignment_position(feature_start, unigene_sequence)\n",
    "            alignment_feature_end = get_alignment_position(feature_end, unigene_sequence)\n",
    "            for position in range (alignment_feature_start, alignment_feature_end+1):\n",
    "                position_matrix.append(position)\n",
    "    position_matrix = sorted(list(set(position_matrix)))\n",
    "    return position_matrix\n",
    "\n",
    "position_matrix = get_positions_matrix(uniprot_hit_hash, tree)\n",
    "print (position_matrix)"
   ]
  },
  {
   "cell_type": "code",
   "execution_count": 251,
   "metadata": {},
   "outputs": [],
   "source": [
    "from ete3 import SeqMotifFace\n",
    "for leaf in tree.iter_leaves():\n",
    "# for leaf in tree.get_leaves():\n",
    "    for position in position_matrix:\n",
    "        seqFace = SeqMotifFace(leaf.sequence[position], seq_format=\"seq\")\n",
    "        (tree&leaf.name).add_face(seqFace, 0, \"aligned\")\n",
    "tree.render('%%inline')\n",
    "tree.show()"
   ]
  }
 ],
 "metadata": {
  "kernelspec": {
   "display_name": "Python 3",
   "language": "python",
   "name": "python3"
  },
  "language_info": {
   "codemirror_mode": {
    "name": "ipython",
    "version": 3
   },
   "file_extension": ".py",
   "mimetype": "text/x-python",
   "name": "python",
   "nbconvert_exporter": "python",
   "pygments_lexer": "ipython3",
   "version": "3.7.3"
  }
 },
 "nbformat": 4,
 "nbformat_minor": 2
}
